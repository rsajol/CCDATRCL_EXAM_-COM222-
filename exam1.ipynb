{
 "cells": [
  {
   "cell_type": "markdown",
   "metadata": {},
   "source": [
    "Midterm Exam"
   ]
  },
  {
   "cell_type": "markdown",
   "metadata": {},
   "source": [
    "Search"
   ]
  },
  {
   "cell_type": "code",
   "execution_count": 689,
   "metadata": {},
   "outputs": [],
   "source": [
    "def linearSearch(my_list, number):\n",
    "\n",
    "    index = 0\n",
    "\n",
    "    for i in my_list:\n",
    "\n",
    "        if my_list[index] == number:\n",
    "            return index\n",
    "\n",
    "        index = index + 1\n",
    "\n",
    "    return -1"
   ]
  },
  {
   "cell_type": "markdown",
   "metadata": {},
   "source": [
    "1. Using linear search, write a findLargestIncrease() function to find the largest increase in value between two adjacent numbers in your student number (10 points)"
   ]
  },
  {
   "cell_type": "code",
   "execution_count": 690,
   "metadata": {},
   "outputs": [
    {
     "name": "stdout",
     "output_type": "stream",
     "text": [
      "Output: Between 0 and 3\n"
     ]
    }
   ],
   "source": [
    "def findLargestIncrease(student_number):\n",
    "    max_increase = 0\n",
    "    low = -1\n",
    "    high = -1\n",
    "\n",
    "    for i in range(len(student_number) - 1):\n",
    "        increase = student_number[i + 1] - student_number[i]\n",
    "\n",
    "        if increase > max_increase:\n",
    "            max_increase = increase\n",
    "            low = i\n",
    "            high = i + 1\n",
    "            \n",
    "    if max_increase > 0:\n",
    "        return f\"Between {student_number[low]} and {student_number[high]}\"\n",
    "    else:\n",
    "        return \"No increase found\"\n",
    "\n",
    "student_number=[2,0,2,2,1,0,3,3,3,4]\n",
    "\n",
    "result = findLargestIncrease(student_number)\n",
    "print(\"Output:\", result)"
   ]
  },
  {
   "cell_type": "markdown",
   "metadata": {},
   "source": [
    "2. Using linear search, write a findLargestDecrease() function to find the largest decrease in value between two adjacent numbers in your student number (10 points)"
   ]
  },
  {
   "cell_type": "code",
   "execution_count": 691,
   "metadata": {},
   "outputs": [
    {
     "name": "stdout",
     "output_type": "stream",
     "text": [
      "Output: Between 2 and 0\n"
     ]
    }
   ],
   "source": [
    "def findLargestDecrease(student_number):\n",
    "    max_decrease = 0\n",
    "    low = -1\n",
    "    high = -1\n",
    "\n",
    "    for i in range(len(student_number) - 1):\n",
    "        decrease = student_number[i] - student_number[i + 1]\n",
    "\n",
    "        if decrease > max_decrease:\n",
    "            max_decrease = decrease\n",
    "            low = i\n",
    "            high = i + 1\n",
    "\n",
    "    if max_decrease > 0:\n",
    "        return f\"Between {student_number[low]} and {student_number[high]}\"\n",
    "    else:\n",
    "        return \"No decrease found\"\n",
    "    \n",
    "student_number=[2,0,2,2,1,0,3,3,3,4]\n",
    "\n",
    "result = findLargestDecrease(student_number)\n",
    "print(\"Output:\", result)"
   ]
  },
  {
   "cell_type": "markdown",
   "metadata": {},
   "source": [
    "Linked List"
   ]
  },
  {
   "cell_type": "code",
   "execution_count": 692,
   "metadata": {},
   "outputs": [],
   "source": [
    "class Node:\n",
    "\n",
    "    def __init__(self, data):\n",
    "        self.data = data\n",
    "        self.next = None  # null"
   ]
  },
  {
   "cell_type": "code",
   "execution_count": 693,
   "metadata": {},
   "outputs": [],
   "source": [
    "class LinkedList:\n",
    "\n",
    "    def __init__(self):\n",
    "        self.head = None\n",
    "\n",
    "    def traverse(self, node):\n",
    "        while node:\n",
    "            print(node.data, end=\" -> \")\n",
    "            node = node.next"
   ]
  },
  {
   "cell_type": "markdown",
   "metadata": {},
   "source": [
    "Instructions ❗️❗️\n",
    "\n",
    "Use the pre-defined linked list class/functions to create a linked list"
   ]
  },
  {
   "cell_type": "markdown",
   "metadata": {},
   "source": [
    "1. Create a Singly linked list named num_list and print all of its elements. (5 points)"
   ]
  },
  {
   "cell_type": "code",
   "execution_count": 694,
   "metadata": {},
   "outputs": [
    {
     "name": "stdout",
     "output_type": "stream",
     "text": [
      "[2, 0, 2, 2, 1, 0, 3, 3, 3, 4]\n"
     ]
    }
   ],
   "source": [
    "student_number = \"2022103334\"\n",
    "\n",
    "\n",
    "num_list = LinkedList()\n",
    "for digit in student_number:\n",
    "    new_node = Node(int(digit))  \n",
    "    if num_list.head is None:\n",
    "        num_list.head = new_node \n",
    "    else:\n",
    "        current_node = num_list.head\n",
    "        while current_node.next is not None:\n",
    "            current_node = current_node.next\n",
    "        current_node.next = new_node  \n",
    "\n",
    "def print_linked_list(linked_list):\n",
    "    current = linked_list.head\n",
    "    elements = []\n",
    "    while current:\n",
    "        elements.append(current.data)\n",
    "        current = current.next\n",
    "    print(elements)\n",
    "\n",
    "print_linked_list(num_list)"
   ]
  },
  {
   "cell_type": "markdown",
   "metadata": {},
   "source": [
    "2. Write a hasPrime() function to test whether a prime number is in the last six digits of num_list. (5 points)"
   ]
  },
  {
   "cell_type": "code",
   "execution_count": 695,
   "metadata": {},
   "outputs": [
    {
     "name": "stdout",
     "output_type": "stream",
     "text": [
      "hasPrime(num_list):\n",
      " True\n"
     ]
    }
   ],
   "source": [
    "def is_prime(n):\n",
    "    if n <= 1:\n",
    "        return False\n",
    "    if n <= 3:\n",
    "        return True\n",
    "    if n % 2 == 0 or n % 3 == 0:\n",
    "        return False\n",
    "    i = 5\n",
    "    while i * i <= n:\n",
    "        if n % i == 0 or n % (i + 2) == 0:\n",
    "            return False\n",
    "        i += 6\n",
    "    return True\n",
    "\n",
    "def hasPrime(num_list):\n",
    "    current = num_list.head\n",
    "    last_six_digits = []\n",
    "    \n",
    "    while current:\n",
    "        last_six_digits.append(current.data)\n",
    "        current = current.next\n",
    "        if len(last_six_digits) > 6:\n",
    "            last_six_digits.pop(0)  \n",
    "\n",
    "    for digit in last_six_digits:\n",
    "        if is_prime(digit):\n",
    "            return True\n",
    "\n",
    "    return False\n",
    "\n",
    "result = hasPrime(num_list)\n",
    "print(\"hasPrime(num_list):\\n\", result)"
   ]
  },
  {
   "cell_type": "markdown",
   "metadata": {},
   "source": [
    "3. Write a removeZeroes() function to remove all occurrences of zeroes in num_list. (5 points)"
   ]
  },
  {
   "cell_type": "code",
   "execution_count": 696,
   "metadata": {},
   "outputs": [
    {
     "name": "stdout",
     "output_type": "stream",
     "text": [
      "removeZeroes(num_list):\n",
      "2 -> 2 -> 2 -> 1 -> 3 -> 3 -> 3 -> 4 -> "
     ]
    }
   ],
   "source": [
    "def removeZeroes(num_list):\n",
    "    current = num_list.head\n",
    "    prev = None \n",
    "    \n",
    "    while current:\n",
    "        if current.data == 0:\n",
    "            if prev is None:\n",
    "                num_list.head = current.next  \n",
    "            else:\n",
    "                prev.next = current.next  \n",
    "        else:\n",
    "            prev = current  \n",
    "        current = current.next\n",
    "\n",
    "    if num_list.head is None:\n",
    "        return \"no zeros found\"\n",
    "    else:\n",
    "        return num_list\n",
    "\n",
    "result = removeZeroes(num_list)\n",
    "if result == \"no zeros found\":\n",
    "    print(result)\n",
    "else:\n",
    "    print(\"removeZeroes(num_list):\\n\", end=\"\")\n",
    "    current = result.head\n",
    "    while current:\n",
    "        print(current.data, end=\" -> \")\n",
    "        current = current.next"
   ]
  },
  {
   "cell_type": "markdown",
   "metadata": {},
   "source": [
    "4. Insert a dash symbol between the 4th and 5th digit in num_list. (5 points)"
   ]
  },
  {
   "cell_type": "code",
   "execution_count": 697,
   "metadata": {},
   "outputs": [
    {
     "name": "stdout",
     "output_type": "stream",
     "text": [
      "num_list:\n",
      "[2, 0, 2, 2, '-', 1, 0, 3, 3, 3, 4]\n"
     ]
    }
   ],
   "source": [
    "num_list = LinkedList()\n",
    "for digit in student_number:\n",
    "    new_node = Node(int(digit))\n",
    "    if num_list.head is None:\n",
    "        num_list.head = new_node\n",
    "    else:\n",
    "        current_node = num_list.head\n",
    "        while current_node.next is not None:\n",
    "            current_node = current_node.next\n",
    "        current_node.next = new_node\n",
    "\n",
    "def insertDash(num_list):\n",
    "    current = num_list.head\n",
    "    position = 1\n",
    "\n",
    "    while current:\n",
    "        if position == 4:\n",
    "            new_node = Node(\"-\")\n",
    "            new_node.next = current.next\n",
    "            current.next = new_node\n",
    "            position += 1\n",
    "        else:\n",
    "            current = current.next\n",
    "            position += 1\n",
    "\n",
    "insertDash(num_list)\n",
    "\n",
    "def print_linked_list(linked_list):\n",
    "    current = linked_list.head\n",
    "    elements = []\n",
    "    while current:\n",
    "        elements.append(current.data)\n",
    "        current = current.next\n",
    "    print(elements)\n",
    "\n",
    "print(\"num_list:\\n\", end=\"\")\n",
    "print_linked_list(num_list)"
   ]
  },
  {
   "cell_type": "markdown",
   "metadata": {},
   "source": [
    "Stack"
   ]
  },
  {
   "cell_type": "code",
   "execution_count": 698,
   "metadata": {},
   "outputs": [],
   "source": [
    "# Creating a stack\n",
    "def create_stack():\n",
    "    stack = []\n",
    "    return stack\n",
    "\n",
    "\n",
    "def print_stack(stack):\n",
    "\n",
    "    if (check_empty(stack)):\n",
    "        return \"stack is empty\"\n",
    "\n",
    "    # Create a copy of the stack and reverse the elements\n",
    "    tempStack = stack.copy()\n",
    "    tempStack.reverse()\n",
    "\n",
    "    # Print all elements using a loop\n",
    "    for i in tempStack:\n",
    "        print(i)\n",
    "\n",
    "    # Delete the copy to free up memory\n",
    "    del tempStack\n",
    "\n",
    "# Creating an empty stack\n",
    "\n",
    "\n",
    "def check_empty(stack):\n",
    "    return len(stack) == 0\n",
    "\n",
    "\n",
    "# Adding items into the stack\n",
    "def push(stack, item):\n",
    "    stack.append(item)\n",
    "    print(\"pushed item: \" + item)\n",
    "\n",
    "\n",
    "# Removing an element from the stack\n",
    "def pop(stack):\n",
    "    if (check_empty(stack)):\n",
    "        return \"stack is empty\"\n",
    "\n",
    "    return stack.pop()\n",
    "\n",
    "\n",
    "def peek(stack):\n",
    "\n",
    "    # Use negative indexing to display the last element of the list\n",
    "    print(stack[-1])"
   ]
  },
  {
   "cell_type": "markdown",
   "metadata": {},
   "source": [
    "Instructions ❗️❗️\n",
    "\n",
    "Use the pre-defined stack class/functions to create a stack"
   ]
  },
  {
   "cell_type": "markdown",
   "metadata": {},
   "source": [
    "1. Create two (2) stacks named name_stack and num_stack (5 points)"
   ]
  },
  {
   "cell_type": "code",
   "execution_count": 699,
   "metadata": {},
   "outputs": [
    {
     "name": "stdout",
     "output_type": "stream",
     "text": [
      "pushed item: R\n",
      "pushed item: O\n",
      "pushed item: V\n",
      "pushed item: I\n",
      "pushed item: L\n",
      "pushed item: Y\n",
      "pushed item: N\n",
      "pushed item: N\n",
      "['R', 'O', 'V', 'I', 'L', 'Y', 'N', 'N']\n",
      "pushed item: 2\n",
      "pushed item: 0\n",
      "pushed item: 2\n",
      "pushed item: 2\n",
      "pushed item: 1\n",
      "pushed item: 0\n",
      "pushed item: 3\n",
      "pushed item: 3\n",
      "pushed item: 3\n",
      "pushed item: 4\n",
      "['2', '0', '2', '2', '1', '0', '3', '3', '3', '4']\n"
     ]
    }
   ],
   "source": [
    "name_stack=create_stack()\n",
    "num_stack=create_stack()\n",
    "\n",
    "\n",
    "push(name_stack, \"R\")\n",
    "push(name_stack, \"O\")\n",
    "push(name_stack, \"V\")\n",
    "push(name_stack, \"I\")\n",
    "push(name_stack, \"L\")\n",
    "push(name_stack, \"Y\")\n",
    "push(name_stack, \"N\")\n",
    "push(name_stack, \"N\")\n",
    "\n",
    "print(name_stack)\n",
    "\n",
    "push(num_stack, \"2\")\n",
    "push(num_stack, \"0\")\n",
    "push(num_stack, \"2\")\n",
    "push(num_stack, \"2\")\n",
    "push(num_stack, \"1\")\n",
    "push(num_stack, \"0\")\n",
    "push(num_stack, \"3\")\n",
    "push(num_stack, \"3\")\n",
    "push(num_stack, \"3\")\n",
    "push(num_stack, \"4\")\n",
    "\n",
    "print(num_stack)"
   ]
  },
  {
   "cell_type": "markdown",
   "metadata": {},
   "source": [
    "2. Create a stack named my_stack that follows the following format: (5 points)"
   ]
  },
  {
   "cell_type": "code",
   "execution_count": 700,
   "metadata": {},
   "outputs": [
    {
     "name": "stdout",
     "output_type": "stream",
     "text": [
      "pushed item: 1\n",
      "pushed item: R\n",
      "pushed item: O\n",
      "pushed item: V\n",
      "pushed item: I\n",
      "pushed item: L\n",
      "pushed item: Y\n",
      "pushed item: N\n",
      "pushed item: N\n",
      "pushed item: 4\n",
      "['1', 'R', 'O', 'V', 'I', 'L', 'Y', 'N', 'N', '4']\n"
     ]
    }
   ],
   "source": [
    "my_stack= create_stack()\n",
    "fifth_digit=num_stack[4]\n",
    "last_digit=num_stack[-1]\n",
    "\n",
    "push(my_stack, fifth_digit)\n",
    "\n",
    "for i in name_stack:\n",
    "    push(my_stack, i)\n",
    "\n",
    "push(my_stack, last_digit)\n",
    "\n",
    "print(my_stack)\n"
   ]
  },
  {
   "cell_type": "markdown",
   "metadata": {},
   "source": [
    "3. Write a verifyStack() function that will take in my_stack and check if its format has been followed (10 points)"
   ]
  },
  {
   "cell_type": "code",
   "execution_count": 701,
   "metadata": {},
   "outputs": [
    {
     "name": "stdout",
     "output_type": "stream",
     "text": [
      "['1', 'R', 'O', 'V', 'I', 'L', 'Y', 'N', 'N', '4']\n",
      "True\n",
      "['1', 'R', 'O', 'V', 'I', 'L', 'Y', 'N', 'N', '7']\n",
      "False\n"
     ]
    }
   ],
   "source": [
    "def verifyStack(my_stack):\n",
    "    if (my_stack[0]) !=  (num_stack[4]):\n",
    "        return False\n",
    "        \n",
    "    if my_stack[1:-1]  != name_stack:\n",
    "        return False\n",
    "    \n",
    "    if (my_stack[-1]) != (num_stack[-1]):\n",
    "        return False\n",
    "    \n",
    "    else:\n",
    "        return True\n",
    "    \n",
    "print(my_stack)\n",
    "result1=verifyStack(my_stack)\n",
    "print(result1)\n",
    "\n",
    "\n",
    "my_stack2= create_stack() \n",
    "my_stack2=[\"1\",\"R\",\"O\",\"V\",\"I\",\"L\",\"Y\",\"N\",\"N\",\"7\"]   \n",
    "print(my_stack2)\n",
    "result2=verifyStack(my_stack2)\n",
    "\n",
    "print(result2)\n"
   ]
  },
  {
   "cell_type": "markdown",
   "metadata": {},
   "source": [
    "Queue"
   ]
  },
  {
   "cell_type": "code",
   "execution_count": 702,
   "metadata": {},
   "outputs": [],
   "source": [
    "class Queue:\n",
    "    def __init__(self):\n",
    "        self.queue = []\n",
    "\n",
    "    # Add an element\n",
    "    def enqueue(self, item):\n",
    "        self.queue.append(item)\n",
    "\n",
    "    # Remove an element\n",
    "    def dequeue(self):\n",
    "        if len(self.queue) < 1:\n",
    "            return None\n",
    "        return self.queue.pop(0)\n",
    "\n",
    "    # Display  the queue\n",
    "    def display(self):\n",
    "        print(self.queue)\n",
    "\n",
    "    def size(self):\n",
    "        return len(self.queue)\n",
    "\n",
    "    def peek(self):\n",
    "        return self.queue[0]"
   ]
  },
  {
   "cell_type": "markdown",
   "metadata": {},
   "source": [
    "Instructions ❗️❗️\n",
    "\n",
    "Use the pre-defined queue class/functions to create a Queue"
   ]
  },
  {
   "cell_type": "markdown",
   "metadata": {},
   "source": [
    "1. Create a simple queue named num_queue (5 points)"
   ]
  },
  {
   "cell_type": "code",
   "execution_count": 703,
   "metadata": {},
   "outputs": [
    {
     "name": "stdout",
     "output_type": "stream",
     "text": [
      "[2, 0, 2, 2, 1, 0, 3, 3, 3, 4]\n"
     ]
    }
   ],
   "source": [
    "num_queue= Queue()\n",
    "num_queue.enqueue(2)\n",
    "num_queue.enqueue(0)\n",
    "num_queue.enqueue(2)\n",
    "num_queue.enqueue(2)\n",
    "num_queue.enqueue(1)\n",
    "num_queue.enqueue(0)\n",
    "num_queue.enqueue(3)\n",
    "num_queue.enqueue(3)\n",
    "num_queue.enqueue(3)\n",
    "num_queue.enqueue(4)\n",
    "\n",
    "num_queue.display()"
   ]
  },
  {
   "cell_type": "markdown",
   "metadata": {},
   "source": [
    "2. Write a getMax() or getMin() function for num_queue (5 points)"
   ]
  },
  {
   "cell_type": "code",
   "execution_count": 704,
   "metadata": {},
   "outputs": [
    {
     "name": "stdout",
     "output_type": "stream",
     "text": [
      "[2, 0, 2, 2, 1, 0, 3, 3, 3, 4]\n",
      "Min Value:  0\n"
     ]
    }
   ],
   "source": [
    "num_queue.display()\n",
    "\n",
    "def getMin(queue):\n",
    "    if not queue:\n",
    "        return None  \n",
    "    \n",
    "    min_value = queue.queue[0]\n",
    "\n",
    "    for item in queue.queue:\n",
    "        if item < min_value:\n",
    "            min_value = item\n",
    "\n",
    "    return min_value\n",
    "getMin(num_queue)\n",
    "\n",
    "print(\"Min Value: \", getMin(num_queue))"
   ]
  },
  {
   "cell_type": "markdown",
   "metadata": {},
   "source": [
    "3. Write a getOdd() or getEven() function for num_queue (5 points)"
   ]
  },
  {
   "cell_type": "code",
   "execution_count": 705,
   "metadata": {},
   "outputs": [
    {
     "name": "stdout",
     "output_type": "stream",
     "text": [
      "[2, 0, 2, 2, 1, 0, 3, 3, 3, 4]\n",
      "even numbers:  [2, 0, 2, 2, 0, 4]\n"
     ]
    }
   ],
   "source": [
    "num_queue.display()\n",
    "even_numbers_numbers = []\n",
    "\n",
    "def getOdd(queue):\n",
    "    for x in queue.queue:\n",
    "     if x % 2 == 0:\n",
    "        even_numbers_numbers.append(x)\n",
    "\n",
    "getOdd(num_queue)\n",
    "print(\"even numbers: \", even_numbers_numbers)"
   ]
  },
  {
   "cell_type": "markdown",
   "metadata": {},
   "source": [
    "4. Write a removeDup() function that will remove all duplicates in num_queue (5 points)"
   ]
  },
  {
   "cell_type": "code",
   "execution_count": 706,
   "metadata": {},
   "outputs": [
    {
     "name": "stdout",
     "output_type": "stream",
     "text": [
      "Original queue:\n",
      "[2, 0, 2, 2, 1, 0, 3, 3, 3, 4]\n",
      "Queue with duplicates removed:\n",
      "[2, 0, 1, 3, 4]\n"
     ]
    }
   ],
   "source": [
    "def removeDuplicates(queue):\n",
    "        unique_elements = set()\n",
    "        new_queue = Queue()\n",
    "\n",
    "        while queue.size() > 0:\n",
    "            item = queue.dequeue()\n",
    "            if item not in unique_elements:\n",
    "                unique_elements.add(item)\n",
    "                new_queue.enqueue(item)\n",
    "\n",
    "        queue.queue = new_queue.queue\n",
    "        return queue\n",
    "\n",
    "print(\"Original queue:\")\n",
    "num_queue.display()\n",
    "\n",
    "removeDuplicates(num_queue)\n",
    "\n",
    "print(\"Queue with duplicates removed:\")\n",
    "num_queue.display()"
   ]
  },
  {
   "cell_type": "markdown",
   "metadata": {},
   "source": [
    "Sort"
   ]
  },
  {
   "cell_type": "markdown",
   "metadata": {},
   "source": [
    "Instructions ❗️❗️\n",
    "\n",
    "Use the any sorting algoritms"
   ]
  },
  {
   "cell_type": "markdown",
   "metadata": {},
   "source": [
    "1. Using any sorting algorithm, sort the last 6 digits of your student number in ascending order (5 points)"
   ]
  },
  {
   "cell_type": "code",
   "execution_count": 707,
   "metadata": {},
   "outputs": [
    {
     "name": "stdout",
     "output_type": "stream",
     "text": [
      "[2, 0, 2, 2, 0, 1, 3, 3, 3, 4]\n"
     ]
    }
   ],
   "source": [
    "def bubbleSort(array):\n",
    "    for i in range(len(array)):\n",
    "        for j in range(0, len(array) - i - 1):\n",
    "            if array[j] > array[j + 1]:\n",
    "                \n",
    "                temp = array[j]\n",
    "                array[j] = array[j + 1]\n",
    "                array[j + 1] = temp\n",
    "\n",
    "student_number = [2,0,2,2,1,0,3,3,3,4]\n",
    "\n",
    "last_6_digits = student_number[-6:]\n",
    "\n",
    "bubbleSort(last_6_digits)\n",
    "\n",
    "sorted_student_number = student_number[:-6] + last_6_digits\n",
    "\n",
    "print(sorted_student_number)"
   ]
  },
  {
   "cell_type": "markdown",
   "metadata": {},
   "source": [
    "2. Using your student_number, separately sort the even numbers in increasing order and the odd numbers in decreasing order (15 points)"
   ]
  },
  {
   "cell_type": "code",
   "execution_count": 708,
   "metadata": {},
   "outputs": [
    {
     "name": "stdout",
     "output_type": "stream",
     "text": [
      "even:  [2, 0, 2, 2, 0, 4]\n",
      "odd:  [1, 3, 3, 3]\n",
      "[0, 0, 2, 2, 2, 4, 3, 3, 3, 1]\n"
     ]
    }
   ],
   "source": [
    "student_number = [2,0,2,2,1,0,3,3,3,4]\n",
    "\n",
    "even_numbers = []\n",
    "\n",
    "for x in student_number:\n",
    "    if x % 2 == 0:\n",
    "        even_numbers.append(x)\n",
    "\n",
    "print(\"even: \" , even_numbers)\n",
    "even_numbers.sort()\n",
    "\n",
    "odd_numbers=[]\n",
    "\n",
    "for x in student_number:\n",
    "    if x % 2 != 0:\n",
    "        odd_numbers.append(x)\n",
    "        \n",
    "print(\"odd: \", odd_numbers)\n",
    "odd_numbers.sort(reverse=True)\n",
    "\n",
    "sorted_student_number = even_numbers + odd_numbers\n",
    "\n",
    "print (sorted_student_number)"
   ]
  }
 ],
 "metadata": {
  "kernelspec": {
   "display_name": "Python 3",
   "language": "python",
   "name": "python3"
  },
  "language_info": {
   "codemirror_mode": {
    "name": "ipython",
    "version": 3
   },
   "file_extension": ".py",
   "mimetype": "text/x-python",
   "name": "python",
   "nbconvert_exporter": "python",
   "pygments_lexer": "ipython3",
   "version": "3.11.5"
  },
  "orig_nbformat": 4
 },
 "nbformat": 4,
 "nbformat_minor": 2
}
